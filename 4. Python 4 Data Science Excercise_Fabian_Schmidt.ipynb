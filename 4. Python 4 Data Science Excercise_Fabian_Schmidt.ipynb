{
 "cells": [
  {
   "cell_type": "code",
   "execution_count": 69,
   "id": "65a78a9c",
   "metadata": {},
   "outputs": [
    {
     "name": "stdout",
     "output_type": "stream",
     "text": [
      "Hello world\n"
     ]
    }
   ],
   "source": [
    "print('Hello world')\n",
    "\n"
   ]
  },
  {
   "cell_type": "code",
   "execution_count": 70,
   "id": "e0e20f47",
   "metadata": {},
   "outputs": [
    {
     "name": "stdout",
     "output_type": "stream",
     "text": [
      "1.19.2\n"
     ]
    }
   ],
   "source": [
    "#1. Import numpy as np and see the version\n",
    "import numpy as np\n",
    "print(np.__version__)"
   ]
  },
  {
   "cell_type": "code",
   "execution_count": 71,
   "id": "293ad74f",
   "metadata": {},
   "outputs": [
    {
     "data": {
      "text/plain": [
       "array([0, 1, 2, 3, 4, 5, 6, 7, 8, 9])"
      ]
     },
     "execution_count": 71,
     "metadata": {},
     "output_type": "execute_result"
    }
   ],
   "source": [
    "#2. How to create a 1D array?\n",
    "arr = np.arange(10)\n",
    "arr"
   ]
  },
  {
   "cell_type": "code",
   "execution_count": 72,
   "id": "d7968f55",
   "metadata": {},
   "outputs": [
    {
     "data": {
      "text/plain": [
       "array([[ True,  True,  True],\n",
       "       [ True,  True,  True],\n",
       "       [ True,  True,  True]])"
      ]
     },
     "execution_count": 72,
     "metadata": {},
     "output_type": "execute_result"
    }
   ],
   "source": [
    "#3. How to create a boolean array?\n",
    "np.full((3, 3), True, dtype=bool)"
   ]
  },
  {
   "cell_type": "code",
   "execution_count": 73,
   "id": "7893d1f0",
   "metadata": {},
   "outputs": [
    {
     "data": {
      "text/plain": [
       "array([1, 3, 5, 7, 9])"
      ]
     },
     "execution_count": 73,
     "metadata": {},
     "output_type": "execute_result"
    }
   ],
   "source": [
    "#4. How to extract items that satisfy a given condition from 1D array?\n",
    "arr = np.array([0, 1, 2, 3, 4, 5, 6, 7, 8, 9])\n",
    "arr[arr % 2 == 1]"
   ]
  },
  {
   "cell_type": "code",
   "execution_count": 74,
   "id": "1c95e2e4",
   "metadata": {},
   "outputs": [
    {
     "data": {
      "text/plain": [
       "array([ 0, -1,  2, -1,  4, -1,  6, -1,  8, -1])"
      ]
     },
     "execution_count": 74,
     "metadata": {},
     "output_type": "execute_result"
    }
   ],
   "source": [
    "#5. How to replace items that satisfy a condition with another value in numpy array?\n",
    "arr = np.array([0, 1, 2, 3, 4, 5, 6, 7, 8, 9])\n",
    "arr[arr % 2 == 1] = -1\n",
    "arr"
   ]
  },
  {
   "cell_type": "code",
   "execution_count": 75,
   "id": "2de5a200",
   "metadata": {},
   "outputs": [
    {
     "name": "stdout",
     "output_type": "stream",
     "text": [
      "[0 1 2 3 4 5 6 7 8 9]\n"
     ]
    },
    {
     "data": {
      "text/plain": [
       "array([ 0, -1,  2, -1,  4, -1,  6, -1,  8, -1])"
      ]
     },
     "execution_count": 75,
     "metadata": {},
     "output_type": "execute_result"
    }
   ],
   "source": [
    "#6. How to replace items that satisfy a condition without affecting the original array?\n",
    "arr = np.array([0, 1, 2, 3, 4, 5, 6, 7, 8, 9])\n",
    "arr = np.arange(10)\n",
    "new = np.where(arr % 2 == 1, -1, arr)\n",
    "print(arr)\n",
    "new"
   ]
  },
  {
   "cell_type": "code",
   "execution_count": 76,
   "id": "e281ee53",
   "metadata": {},
   "outputs": [
    {
     "data": {
      "text/plain": [
       "array([[0, 1, 2, 3, 4],\n",
       "       [5, 6, 7, 8, 9]])"
      ]
     },
     "execution_count": 76,
     "metadata": {},
     "output_type": "execute_result"
    }
   ],
   "source": [
    "#7. How to reshape an array?\n",
    "np.arange(10)\n",
    "arr = np.arange(10)\n",
    "arr.reshape(2, -1)"
   ]
  },
  {
   "cell_type": "code",
   "execution_count": 77,
   "id": "570c553f",
   "metadata": {},
   "outputs": [
    {
     "data": {
      "text/plain": [
       "array([[0, 1, 2, 3, 4],\n",
       "       [5, 6, 7, 8, 9],\n",
       "       [1, 1, 1, 1, 1],\n",
       "       [1, 1, 1, 1, 1]])"
      ]
     },
     "execution_count": 77,
     "metadata": {},
     "output_type": "execute_result"
    }
   ],
   "source": [
    "#8. How to stack two arrays vertically?\n",
    "a = np.arange(10).reshape(2,-1)\n",
    "b = np.repeat(1, 10).reshape(2,-1)\n",
    "np.vstack([a, b])"
   ]
  },
  {
   "cell_type": "code",
   "execution_count": 78,
   "id": "f00a06fb",
   "metadata": {},
   "outputs": [
    {
     "data": {
      "text/plain": [
       "array([[0, 1, 2, 3, 4, 1, 1, 1, 1, 1],\n",
       "       [5, 6, 7, 8, 9, 1, 1, 1, 1, 1]])"
      ]
     },
     "execution_count": 78,
     "metadata": {},
     "output_type": "execute_result"
    }
   ],
   "source": [
    "#9. How to stack two arrays horizontally?\n",
    "a = np.arange(10).reshape(2,-1)\n",
    "b = np.repeat(1, 10).reshape(2,-1)\n",
    "np.hstack([a, b])"
   ]
  },
  {
   "cell_type": "code",
   "execution_count": 79,
   "id": "bf951b3b",
   "metadata": {},
   "outputs": [
    {
     "data": {
      "text/plain": [
       "array([1, 1, 1, 2, 2, 2, 3, 3, 3, 1, 2, 3, 1, 2, 3, 1, 2, 3])"
      ]
     },
     "execution_count": 79,
     "metadata": {},
     "output_type": "execute_result"
    }
   ],
   "source": [
    "#10. How to generate custom sequences in numpy without hardcoding?\n",
    "a = np.array([1,2,3])\n",
    "np.r_[np.repeat(a, 3), np.tile(a, 3)]"
   ]
  },
  {
   "cell_type": "code",
   "execution_count": 80,
   "id": "219e3623",
   "metadata": {},
   "outputs": [
    {
     "data": {
      "text/plain": [
       "array([2, 4])"
      ]
     },
     "execution_count": 80,
     "metadata": {},
     "output_type": "execute_result"
    }
   ],
   "source": [
    "#11. How to get the common items between two python numpy arrays?\n",
    "a = np.array([1,2,3,2,3,4,3,4,5,6])\n",
    "b = np.array([7,2,10,2,7,4,9,4,9,8])\n",
    "np.intersect1d(a,b)"
   ]
  },
  {
   "cell_type": "code",
   "execution_count": 81,
   "id": "bce2cf78",
   "metadata": {},
   "outputs": [
    {
     "data": {
      "text/plain": [
       "array([1, 2, 3, 4])"
      ]
     },
     "execution_count": 81,
     "metadata": {},
     "output_type": "execute_result"
    }
   ],
   "source": [
    "#12. How to remove from one array those items that exist in another?\n",
    "a = np.array([1,2,3,4,5])\n",
    "b = np.array([5,6,7,8,9])\n",
    "np.setdiff1d(a,b)"
   ]
  },
  {
   "cell_type": "code",
   "execution_count": 83,
   "id": "40c47e74",
   "metadata": {},
   "outputs": [
    {
     "data": {
      "text/plain": [
       "(array([1, 3, 5, 7], dtype=int32),)"
      ]
     },
     "execution_count": 83,
     "metadata": {},
     "output_type": "execute_result"
    }
   ],
   "source": [
    "#13. How to get the positions where elements of two arrays match?\n",
    "a = np.array([1,2,3,2,3,4,3,4,5,6])\n",
    "b = np.array([7,2,10,2,7,4,9,4,9,8])\n",
    "np.where(a == b)"
   ]
  },
  {
   "cell_type": "code",
   "execution_count": 90,
   "id": "00fc3c91",
   "metadata": {},
   "outputs": [
    {
     "data": {
      "text/plain": [
       "array([ 6,  9, 10])"
      ]
     },
     "execution_count": 90,
     "metadata": {},
     "output_type": "execute_result"
    }
   ],
   "source": [
    "#14. How to extract all numbers between a given range from a numpy array?\n",
    "a = np.array([2, 6, 1, 9, 10, 3, 27])\n",
    "index = np.where((a >= 5) & (a <= 10))\n",
    "a[index]"
   ]
  },
  {
   "cell_type": "code",
   "execution_count": 101,
   "id": "1e3d780b",
   "metadata": {},
   "outputs": [
    {
     "data": {
      "text/plain": [
       "array([6, 7, 9, 8, 9, 7, 5])"
      ]
     },
     "execution_count": 101,
     "metadata": {},
     "output_type": "execute_result"
    }
   ],
   "source": [
    "#15. How to make a python function that handles scalars to work on numpy arrays?\n",
    "def maxx(x, y):\n",
    "    \"\"\"Get the maximum of two items\"\"\"\n",
    "    if x >= y:\n",
    "        return x\n",
    "    else:\n",
    "        return y\n",
    "\n",
    "pair_max = np.vectorize(maxx)\n",
    "a = np.array([5, 7, 9, 8, 6, 4, 5])\n",
    "b = np.array([6, 3, 4, 8, 9, 7, 1])\n",
    "pair_max(a, b)"
   ]
  },
  {
   "cell_type": "code",
   "execution_count": 107,
   "id": "eed203b4",
   "metadata": {},
   "outputs": [
    {
     "data": {
      "text/plain": [
       "array([[1, 0, 2],\n",
       "       [4, 3, 5],\n",
       "       [7, 6, 8]])"
      ]
     },
     "execution_count": 107,
     "metadata": {},
     "output_type": "execute_result"
    }
   ],
   "source": [
    "#16. How to swap two columns in a 2d numpy array?\n",
    "arr = np.arange(9).reshape(3,3)\n",
    "arr\n",
    "arr[:, [1,0,2]]"
   ]
  },
  {
   "cell_type": "code",
   "execution_count": 116,
   "id": "7b0360dd",
   "metadata": {},
   "outputs": [
    {
     "data": {
      "text/plain": [
       "array([[3, 4, 5],\n",
       "       [0, 1, 2],\n",
       "       [6, 7, 8]])"
      ]
     },
     "execution_count": 116,
     "metadata": {},
     "output_type": "execute_result"
    }
   ],
   "source": [
    "#17. How to swap two rows in a 2d numpy array?\n",
    "arr = np.arange(9).reshape(3,3)\n",
    "arr[[1,0,2], :]"
   ]
  },
  {
   "cell_type": "code",
   "execution_count": 131,
   "id": "67801668",
   "metadata": {},
   "outputs": [
    {
     "data": {
      "text/plain": [
       "array([[6, 7, 8],\n",
       "       [3, 4, 5],\n",
       "       [0, 1, 2]])"
      ]
     },
     "execution_count": 131,
     "metadata": {},
     "output_type": "execute_result"
    }
   ],
   "source": [
    "#18. How to reverse the rows of a 2D array?\n",
    "arr = np.arange(9).reshape(3,3)\n",
    "arr[::-1]"
   ]
  },
  {
   "cell_type": "code",
   "execution_count": 141,
   "id": "746ee2a3",
   "metadata": {},
   "outputs": [
    {
     "data": {
      "text/plain": [
       "array([[2, 1, 0],\n",
       "       [5, 4, 3],\n",
       "       [8, 7, 6]])"
      ]
     },
     "execution_count": 141,
     "metadata": {},
     "output_type": "execute_result"
    }
   ],
   "source": [
    "#19. How to reverse the columns of a 2D array?\n",
    "arr = np.arange(9).reshape(3,3)\n",
    "arr[:, ::-1]"
   ]
  },
  {
   "cell_type": "code",
   "execution_count": 173,
   "id": "50761f0b",
   "metadata": {},
   "outputs": [
    {
     "name": "stdout",
     "output_type": "stream",
     "text": [
      "[[7.25093107 6.82263273 8.63772333]\n",
      " [6.81523185 9.97544003 8.42103982]\n",
      " [8.41782781 7.65957091 7.66969209]\n",
      " [7.45595057 5.34571693 8.91519181]\n",
      " [7.71637734 7.4884667  5.35501375]]\n"
     ]
    }
   ],
   "source": [
    "#20. How to create a 2D array containing random floats between 5 and 10?\n",
    "arr = np.arange(9).reshape(3,3)\n",
    "rand_arr = np.random.randint(low=5, high=10, size=(5,3)) + np.random.random((5,3))\n",
    "print(rand_arr)"
   ]
  },
  {
   "cell_type": "code",
   "execution_count": 193,
   "id": "a6013d29",
   "metadata": {},
   "outputs": [
    {
     "data": {
      "text/plain": [
       "array([[0.571, 0.067, 0.749],\n",
       "       [0.712, 0.048, 0.466],\n",
       "       [0.924, 0.298, 0.626],\n",
       "       [0.652, 0.452, 0.352]])"
      ]
     },
     "execution_count": 193,
     "metadata": {},
     "output_type": "execute_result"
    }
   ],
   "source": [
    "#21. How to print only 3 decimal places in python numpy array?\n",
    "rand_arr = np.random.random((5,3))\n",
    "np.set_printoptions(precision=3)\n",
    "rand_arr[:4]"
   ]
  },
  {
   "cell_type": "code",
   "execution_count": 221,
   "id": "6aeb70bd",
   "metadata": {},
   "outputs": [
    {
     "name": "stdout",
     "output_type": "stream",
     "text": [
      "[[5.434049e-04 2.783694e-04 4.245176e-04]\n",
      " [8.447761e-04 4.718856e-06 1.215691e-04]\n",
      " [6.707491e-04 8.258528e-04 1.367066e-04]]\n"
     ]
    },
    {
     "data": {
      "text/plain": [
       "array([[0.000543, 0.000278, 0.000425],\n",
       "       [0.000845, 0.000005, 0.000122],\n",
       "       [0.000671, 0.000826, 0.000137]])"
      ]
     },
     "execution_count": 221,
     "metadata": {},
     "output_type": "execute_result"
    }
   ],
   "source": [
    "#22. How to pretty print a numpy array by suppressing the scientific notation (like 1e10)?\n",
    "np.set_printoptions(suppress=False)\n",
    "np.random.seed(100)\n",
    "rand_arr = np.random.random([3,3])/1e3\n",
    "print(rand_arr)\n",
    "np.set_printoptions(suppress=True, precision=6)  # precision is optional\n",
    "rand_arr"
   ]
  },
  {
   "cell_type": "code",
   "execution_count": 231,
   "id": "719b0877",
   "metadata": {},
   "outputs": [
    {
     "data": {
      "text/plain": [
       "array([ 0,  1,  2, ..., 12, 13, 14])"
      ]
     },
     "execution_count": 231,
     "metadata": {},
     "output_type": "execute_result"
    }
   ],
   "source": [
    "#23. How to limit the number of items printed in output of numpy array?\n",
    "np.set_printoptions(threshold=6)\n",
    "a = np.arange(15)\n",
    "a"
   ]
  },
  {
   "cell_type": "code",
   "execution_count": 248,
   "id": "c335d984",
   "metadata": {},
   "outputs": [
    {
     "name": "stdout",
     "output_type": "stream",
     "text": [
      "[ 0  1  2 ... 12 13 14]\n"
     ]
    },
    {
     "data": {
      "text/plain": [
       "array([ 0,  1,  2,  3,  4,  5,  6,  7,  8,  9, 10, 11, 12, 13, 14])"
      ]
     },
     "execution_count": 248,
     "metadata": {},
     "output_type": "execute_result"
    }
   ],
   "source": [
    "#24. How to print the full numpy array without truncating\n",
    "import sys\n",
    "np.set_printoptions(threshold=6)\n",
    "a = np.arange(15)\n",
    "print(a)\n",
    "np.set_printoptions(threshold=sys.maxsize)\n",
    "a"
   ]
  },
  {
   "cell_type": "code",
   "execution_count": 264,
   "id": "31fa3a34",
   "metadata": {},
   "outputs": [
    {
     "data": {
      "text/plain": [
       "array([[b'5.1', b'3.5', b'1.4', b'0.2', b'Iris-setosa'],\n",
       "       [b'4.9', b'3.0', b'1.4', b'0.2', b'Iris-setosa'],\n",
       "       [b'4.7', b'3.2', b'1.3', b'0.2', b'Iris-setosa']], dtype=object)"
      ]
     },
     "execution_count": 264,
     "metadata": {},
     "output_type": "execute_result"
    }
   ],
   "source": [
    "#25. How to import a dataset with numbers and texts keeping the text intact in python numpy?\n",
    "url = 'https://archive.ics.uci.edu/ml/machine-learning-databases/iris/iris.data'\n",
    "iris = np.genfromtxt(url, delimiter=',', dtype='object')\n",
    "names = ('sepallength', 'sepalwidth', 'petallength', 'petalwidth', 'species')\n",
    "iris[:3]"
   ]
  },
  {
   "cell_type": "code",
   "execution_count": 315,
   "id": "9a365056",
   "metadata": {},
   "outputs": [
    {
     "name": "stdout",
     "output_type": "stream",
     "text": [
      "Basic informations\n",
      "Number of rows  5\n",
      "Number of columns  5\n",
      "\n",
      "---------------------------------------\n",
      "Show the last 4 rows of the data frame.\n",
      "       Name     People     Area   BIP Currency\n",
      "1     Japan  126045000   377835  4938      YEN\n",
      "2    Canada   36503097  9984670  1529      CAD\n",
      "3     Italy   60501718   301338  1850      EUR\n",
      "4  Brazilia  208360000  8515770  1798     REAL\n",
      "\n",
      "---------------------------------------\n",
      "Show all the row of countries who have the EURO.\n",
      "      Name    People    Area   BIP Currency\n",
      "0  Germany  82521653  357385  3466      EUR\n",
      "3    Italy  60501718  301338  1850      EUR\n",
      "\n",
      "---------------------------------------\n",
      "Show only name and Currency in a new data frame.\n",
      "       Name Currency\n",
      "0   Germany      EUR\n",
      "1     Japan      YEN\n",
      "2    Canada      CAD\n",
      "3     Italy      EUR\n",
      "4  Brazilia     REAL\n",
      "\n",
      "---------------------------------------\n",
      "Show only the rows/countries that have more than 2000 BIP (it is in Milliarden USD Bruttoinlandsprodukt)\n",
      "      Name     People    Area   BIP Currency\n",
      "0  Germany   82521653  357385  3466      EUR\n",
      "1    Japan  126045000  377835  4938      YEN\n",
      "\n",
      "---------------------------------------\n",
      "Select all countries where with inhabitants between 50 and 150 Mio\n",
      "      Name     People    Area   BIP Currency\n",
      "0  Germany   82521653  357385  3466      EUR\n",
      "1    Japan  126045000  377835  4938      YEN\n",
      "3    Italy   60501718  301338  1850      EUR\n",
      "\n",
      "---------------------------------------\n",
      "Change BIP to Bip\n",
      "       Name     People     Area   Bip Currency\n",
      "0   Germany   82521653   357385  3466      EUR\n",
      "1     Japan  126045000   377835  4938      YEN\n",
      "2    Canada   36503097  9984670  1529      CAD\n",
      "3     Italy   60501718   301338  1850      EUR\n",
      "4  Brazilia  208360000  8515770  1798     REAL\n",
      "\n",
      "---------------------------------------\n",
      "Calculate the Bip sum\n",
      "Total Bip: 13581\n",
      "\n",
      "---------------------------------------\n",
      "Calculate the average people of all countries\n",
      "Avrg People: 102786294\n",
      "\n",
      "---------------------------------------\n",
      "Sort by name alphabetically\n",
      "       Name     People     Area   BIP Currency\n",
      "4  Brazilia  208360000  8515770  1798     REAL\n",
      "2    Canada   36503097  9984670  1529      CAD\n",
      "0   Germany   82521653   357385  3466      EUR\n",
      "3     Italy   60501718   301338  1850      EUR\n",
      "1     Japan  126045000   377835  4938      YEN\n",
      "\n",
      "---------------------------------------\n",
      "Create a new data frame from the original where the area is changed as follows: all countries with > 1000000 get BIG and <= 1000000 get SMALL in the cell replaced\n",
      "       Name     People   Area   BIP Currency\n",
      "0   Germany   82521653  SMALL  3466      EUR\n",
      "1     Japan  126045000  SMALL  4938      YEN\n",
      "2    Canada   36503097    BIG  1529      CAD\n",
      "3     Italy   60501718  SMALL  1850      EUR\n",
      "4  Brazilia  208360000    BIG  1798     REAL\n"
     ]
    }
   ],
   "source": [
    "#Do the following exercise in a Jupyter Notebook (a GitHub Link would be the best):\n",
    "import pandas as pd\n",
    "url = 'https://raw.githubusercontent.com/edlich/eternalrepo/master/DS-WAHLFACH/countries.csv'\n",
    "df = pd.read_csv (url,error_bad_lines=False)\n",
    "\n",
    "row_count, column_count = df.shape\n",
    "print('Basic informations')\n",
    "print(\"Number of rows \", row_count)\n",
    "print(\"Number of columns \", column_count)\n",
    "print('')\n",
    "print('---------------------------------------')\n",
    "print('Show the last 4 rows of the data frame.')\n",
    "df1 = df.iloc[1:]\n",
    "print(df1)\n",
    "print('')\n",
    "print('---------------------------------------')\n",
    "print('Show all the row of countries who have the EURO.')\n",
    "df2 = df.loc[df['Currency'] == 'EUR']\n",
    "print(df2)\n",
    "print('')\n",
    "print('---------------------------------------')\n",
    "print('Show only name and Currency in a new data frame.')\n",
    "df3 = df[['Name', 'Currency']]\n",
    "print(df3)\n",
    "print('')\n",
    "print('---------------------------------------')\n",
    "print('Show only the rows/countries that have more than 2000 BIP (it is in Milliarden USD Bruttoinlandsprodukt)')\n",
    "df4 = df.loc[df['BIP'] > 2000]\n",
    "print(df4)\n",
    "print('')\n",
    "print('---------------------------------------')\n",
    "print('Select all countries where with inhabitants between 50 and 150 Mio')\n",
    "df5 = df.loc[(df['People'] >= 50000000) & (df['People'] <= 150000000)]\n",
    "print(df5)\n",
    "print('')\n",
    "print('---------------------------------------')\n",
    "print('Change BIP to Bip')\n",
    "df6 = df.rename({'BIP' : 'Bip'}, axis=1)\n",
    "print(df6)\n",
    "print('')\n",
    "print('---------------------------------------')\n",
    "print('Calculate the Bip sum')\n",
    "sum1 = df6['Bip'].sum()\n",
    "print('Total Bip: ' + str(sum1))\n",
    "print('')\n",
    "print('---------------------------------------')\n",
    "print('Calculate the average people of all countries')\n",
    "sum2 = df['People'].sum()/row_count\n",
    "print('Avrg People: ' + str(round(sum2)))\n",
    "print('')\n",
    "print('---------------------------------------')\n",
    "print('Sort by name alphabetically')\n",
    "df7 = df.sort_values(by=['Name'])\n",
    "print(df7)\n",
    "print('')\n",
    "print('---------------------------------------')\n",
    "print('Create a new data frame from the original where the area is changed as follows: all countries with > 1000000 get BIG and <= 1000000 get SMALL in the cell replaced')\n",
    "df8 = df\n",
    "df8['Area'] = np.where(df8['Area'] > 1000000, 'BIG', 'SMALL')\n",
    "print(df8)\n"
   ]
  },
  {
   "cell_type": "code",
   "execution_count": null,
   "id": "b32b7632",
   "metadata": {},
   "outputs": [],
   "source": []
  },
  {
   "cell_type": "code",
   "execution_count": null,
   "id": "1a6667f9",
   "metadata": {},
   "outputs": [],
   "source": []
  }
 ],
 "metadata": {
  "kernelspec": {
   "display_name": "Python 3",
   "language": "python",
   "name": "python3"
  },
  "language_info": {
   "codemirror_mode": {
    "name": "ipython",
    "version": 3
   },
   "file_extension": ".py",
   "mimetype": "text/x-python",
   "name": "python",
   "nbconvert_exporter": "python",
   "pygments_lexer": "ipython3",
   "version": "3.8.8"
  }
 },
 "nbformat": 4,
 "nbformat_minor": 5
}
